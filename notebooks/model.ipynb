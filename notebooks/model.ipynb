{
 "cells": [
  {
   "cell_type": "code",
   "execution_count": 7,
   "outputs": [],
   "source": [
    "import setup_notebook\n",
    "\n",
    "import numpy as np\n",
    "import matplotlib.pyplot as plt\n",
    "import pandas as pd\n",
    "import seaborn as sns\n",
    "from sklearn.metrics import mean_absolute_percentage_error\n",
    "\n",
    "from grandexchange.preprocess import load_preprocessed_data\n",
    "\n",
    "# How many steps in the future to predict\n",
    "N_PREDICT_STEPS = 7\n",
    "\n",
    "# Number of steps for the first cross validation fold\n",
    "MIN_CV_SIZE = 500"
   ],
   "metadata": {
    "collapsed": false,
    "pycharm": {
     "name": "#%%\n"
    }
   }
  },
  {
   "cell_type": "markdown",
   "source": [
    "### Load data"
   ],
   "metadata": {
    "collapsed": false,
    "pycharm": {
     "name": "#%% md\n"
    }
   }
  },
  {
   "cell_type": "code",
   "execution_count": 60,
   "outputs": [
    {
     "name": "stdout",
     "output_type": "stream",
     "text": [
      "Local DB found, checking for updated grandexchange...\n",
      "No new data found\n"
     ]
    }
   ],
   "source": [
    "data = load_preprocessed_data(6)\n",
    "\n",
    "# For now take a sample of 5 items to test model\n",
    "data = data[\n",
    "    data[\"item_id\"].isin(\n",
    "        data[\"item_id\"].sample(5, random_state=42)\n",
    "    )\n",
    "].reset_index(drop=True)\n",
    "\n",
    "# Make wide\n",
    "data = data[[\"name\", \"datetime\", \"price\"]].pivot(index=\"datetime\", columns=\"name\", values=\"price\").reset_index()\n",
    "data.columns.name = None"
   ],
   "metadata": {
    "collapsed": false,
    "pycharm": {
     "name": "#%%\n"
    }
   }
  },
  {
   "cell_type": "code",
   "execution_count": 61,
   "outputs": [
    {
     "data": {
      "text/plain": "                datetime  Blue d'hide body  Dragon bolts  Fire battlestaff  \\\n0    2022-01-01 00:00:00       4873.083333   3669.083333       8922.916667   \n1    2022-01-01 06:00:00       4945.583333   3673.583333       8910.500000   \n2    2022-01-01 12:00:00       5046.666667   3658.916667       8980.416667   \n3    2022-01-01 18:00:00       4956.500000   3621.916667       8967.333333   \n4    2022-01-02 00:00:00       4813.000000   3573.166667       8916.166667   \n...                  ...               ...           ...               ...   \n1054 2022-09-21 12:00:00       5059.416667   1791.583333       8951.416667   \n1055 2022-09-21 18:00:00       4937.166667   1791.583333       8909.416667   \n1056 2022-09-22 00:00:00       4989.583333   1782.916667       8944.166667   \n1057 2022-09-22 06:00:00       5113.000000   1770.083333       8925.250000   \n1058 2022-09-22 12:00:00       5089.100000   1752.900000       8914.200000   \n\n      Mahogany logs  Sanfew serum(4)  \n0        360.500000     31534.083333  \n1        360.000000     31721.000000  \n2        355.250000     32282.166667  \n3        344.916667     32501.916667  \n4        341.333333     33626.500000  \n...             ...              ...  \n1054     232.166667     39800.082561  \n1055     220.500000     41099.833333  \n1056     216.916667     42366.416667  \n1057     223.250000     43784.250000  \n1058     221.800000     43762.300000  \n\n[1059 rows x 6 columns]",
      "text/html": "<div>\n<style scoped>\n    .dataframe tbody tr th:only-of-type {\n        vertical-align: middle;\n    }\n\n    .dataframe tbody tr th {\n        vertical-align: top;\n    }\n\n    .dataframe thead th {\n        text-align: right;\n    }\n</style>\n<table border=\"1\" class=\"dataframe\">\n  <thead>\n    <tr style=\"text-align: right;\">\n      <th></th>\n      <th>datetime</th>\n      <th>Blue d'hide body</th>\n      <th>Dragon bolts</th>\n      <th>Fire battlestaff</th>\n      <th>Mahogany logs</th>\n      <th>Sanfew serum(4)</th>\n    </tr>\n  </thead>\n  <tbody>\n    <tr>\n      <th>0</th>\n      <td>2022-01-01 00:00:00</td>\n      <td>4873.083333</td>\n      <td>3669.083333</td>\n      <td>8922.916667</td>\n      <td>360.500000</td>\n      <td>31534.083333</td>\n    </tr>\n    <tr>\n      <th>1</th>\n      <td>2022-01-01 06:00:00</td>\n      <td>4945.583333</td>\n      <td>3673.583333</td>\n      <td>8910.500000</td>\n      <td>360.000000</td>\n      <td>31721.000000</td>\n    </tr>\n    <tr>\n      <th>2</th>\n      <td>2022-01-01 12:00:00</td>\n      <td>5046.666667</td>\n      <td>3658.916667</td>\n      <td>8980.416667</td>\n      <td>355.250000</td>\n      <td>32282.166667</td>\n    </tr>\n    <tr>\n      <th>3</th>\n      <td>2022-01-01 18:00:00</td>\n      <td>4956.500000</td>\n      <td>3621.916667</td>\n      <td>8967.333333</td>\n      <td>344.916667</td>\n      <td>32501.916667</td>\n    </tr>\n    <tr>\n      <th>4</th>\n      <td>2022-01-02 00:00:00</td>\n      <td>4813.000000</td>\n      <td>3573.166667</td>\n      <td>8916.166667</td>\n      <td>341.333333</td>\n      <td>33626.500000</td>\n    </tr>\n    <tr>\n      <th>...</th>\n      <td>...</td>\n      <td>...</td>\n      <td>...</td>\n      <td>...</td>\n      <td>...</td>\n      <td>...</td>\n    </tr>\n    <tr>\n      <th>1054</th>\n      <td>2022-09-21 12:00:00</td>\n      <td>5059.416667</td>\n      <td>1791.583333</td>\n      <td>8951.416667</td>\n      <td>232.166667</td>\n      <td>39800.082561</td>\n    </tr>\n    <tr>\n      <th>1055</th>\n      <td>2022-09-21 18:00:00</td>\n      <td>4937.166667</td>\n      <td>1791.583333</td>\n      <td>8909.416667</td>\n      <td>220.500000</td>\n      <td>41099.833333</td>\n    </tr>\n    <tr>\n      <th>1056</th>\n      <td>2022-09-22 00:00:00</td>\n      <td>4989.583333</td>\n      <td>1782.916667</td>\n      <td>8944.166667</td>\n      <td>216.916667</td>\n      <td>42366.416667</td>\n    </tr>\n    <tr>\n      <th>1057</th>\n      <td>2022-09-22 06:00:00</td>\n      <td>5113.000000</td>\n      <td>1770.083333</td>\n      <td>8925.250000</td>\n      <td>223.250000</td>\n      <td>43784.250000</td>\n    </tr>\n    <tr>\n      <th>1058</th>\n      <td>2022-09-22 12:00:00</td>\n      <td>5089.100000</td>\n      <td>1752.900000</td>\n      <td>8914.200000</td>\n      <td>221.800000</td>\n      <td>43762.300000</td>\n    </tr>\n  </tbody>\n</table>\n<p>1059 rows × 6 columns</p>\n</div>"
     },
     "execution_count": 61,
     "metadata": {},
     "output_type": "execute_result"
    }
   ],
   "source": [
    "data"
   ],
   "metadata": {
    "collapsed": false,
    "pycharm": {
     "name": "#%%\n"
    }
   }
  },
  {
   "cell_type": "markdown",
   "source": [
    "### Cross-validation"
   ],
   "metadata": {
    "collapsed": false,
    "pycharm": {
     "name": "#%% md\n"
    }
   }
  },
  {
   "cell_type": "code",
   "execution_count": 64,
   "outputs": [],
   "source": [
    "from sktime.forecasting.model_selection import SlidingWindowSplitter\n",
    "\n",
    "df = data\n",
    "FORECAST_LENGTH = 7\n",
    "STEP_LENGTH = 150\n",
    "N_STEPS = data[\"datetime\"].nunique()\n",
    "\n",
    "def get_cv_splits(n_steps: int, forecast_length: int, step_length: int):\n",
    "    window_size = n_steps // 2\n",
    "    splitter = SlidingWindowSplitter(\n",
    "        fh = list(range(1, forecast_length + 1)),\n",
    "        window_length=window_size,\n",
    "        step_length=step_length\n",
    "    )\n",
    "    return list(splitter.split(np.arange(n_steps)))"
   ],
   "metadata": {
    "collapsed": false,
    "pycharm": {
     "name": "#%%\n"
    }
   }
  },
  {
   "cell_type": "code",
   "execution_count": 65,
   "outputs": [],
   "source": [
    "cv_split = 0\n",
    "\n",
    "cv_splits = get_cv_splits(N_STEPS, FORECAST_LENGTH, STEP_LENGTH)\n",
    "\n",
    "train = data.iloc[cv_splits[cv_split][0]]\n",
    "test = data.iloc[cv_splits[cv_split][1]]"
   ],
   "metadata": {
    "collapsed": false,
    "pycharm": {
     "name": "#%%\n"
    }
   }
  },
  {
   "cell_type": "markdown",
   "source": [
    "### Model"
   ],
   "metadata": {
    "collapsed": false,
    "pycharm": {
     "name": "#%% md\n"
    }
   }
  }
 ],
 "metadata": {
  "kernelspec": {
   "display_name": "Python 3",
   "language": "python",
   "name": "python3"
  },
  "language_info": {
   "codemirror_mode": {
    "name": "ipython",
    "version": 2
   },
   "file_extension": ".py",
   "mimetype": "text/x-python",
   "name": "python",
   "nbconvert_exporter": "python",
   "pygments_lexer": "ipython2",
   "version": "2.7.6"
  }
 },
 "nbformat": 4,
 "nbformat_minor": 0
}