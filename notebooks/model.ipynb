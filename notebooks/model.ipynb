{
 "cells": [
  {
   "cell_type": "code",
   "execution_count": null,
   "metadata": {
    "collapsed": true,
    "pycharm": {
     "name": "#%%\n"
    }
   },
   "outputs": [],
   "source": [
    "import setup_notebook\n",
    "\n",
    "import numpy as np\n",
    "import matplotlib.pyplot as plt\n",
    "import pandas as pd\n",
    "import seaborn as sns\n",
    "from sklearn.metrics import mean_absolute_percentage_error\n",
    "\n",
    "from grandexchange.preprocess import load_preprocessed_data\n",
    "\n",
    "# How many steps in the future to predict\n",
    "N_PREDICT_STEPS = 7\n",
    "\n",
    "# Number of steps for the first cross validation fold\n",
    "MIN_CV_SIZE = 500"
   ]
  },
  {
   "cell_type": "markdown",
   "source": [
    "### Load data"
   ],
   "metadata": {
    "collapsed": false,
    "pycharm": {
     "name": "#%% md\n"
    }
   }
  },
  {
   "cell_type": "code",
   "execution_count": null,
   "outputs": [],
   "source": [
    "data = load_preprocessed_data(6)\n",
    "\n",
    "# For now take a sample of 5 items to test model\n",
    "data = data[\n",
    "    data[\"item_id\"].isin(\n",
    "        data[\"item_id\"].sample(5, random_state=42)\n",
    "    )\n",
    "]"
   ],
   "metadata": {
    "collapsed": false,
    "pycharm": {
     "name": "#%%\n"
    }
   }
  },
  {
   "cell_type": "markdown",
   "source": [
    "### Cross-validation\n",
    "\n",
    "Logic:\n",
    "- Forward rolling cross validation with MIN_CV_SIZE as the first fold\n",
    "- This initial training set will be the first fold and  will predict the next N_PREDICT_STEPS (test set) and store:\n",
    "    1. The predicted and actual\n",
    "    1. The number of days ahead the prediction was for\n",
    "- The new training set will be the previous fold plus the previous test set"
   ],
   "metadata": {
    "collapsed": false,
    "pycharm": {
     "name": "#%% md\n"
    }
   }
  },
  {
   "cell_type": "code",
   "execution_count": null,
   "outputs": [],
   "source": [
    "steps = data.datetime.unique()\n",
    "cv_folds = {}\n",
    "\n",
    "fold = 0\n",
    "\n",
    "train_size = MIN_CV_SIZE\n",
    "train_fold = steps[:train_size]\n",
    "test_fold = steps[train_size:(train_size + N_PREDICT_STEPS)]\n",
    "\n",
    "while train_size + N_PREDICT_STEPS <= len(steps):\n",
    "    cv_folds[fold] = {\n",
    "        \"train\": train_fold,\n",
    "        \"test\": test_fold\n",
    "    }\n",
    "    fold += 1\n",
    "    train_size += N_PREDICT_STEPS"
   ],
   "metadata": {
    "collapsed": false,
    "pycharm": {
     "name": "#%%\n"
    }
   }
  },
  {
   "cell_type": "markdown",
   "source": [],
   "metadata": {
    "collapsed": false,
    "pycharm": {
     "name": "#%% md\n"
    }
   }
  },
  {
   "cell_type": "markdown",
   "source": [
    "### Baseline model\n",
    "\n",
    "Predict the next days as the average of the previous 7 days"
   ],
   "metadata": {
    "collapsed": false,
    "pycharm": {
     "name": "#%% md\n"
    }
   }
  },
  {
   "cell_type": "code",
   "execution_count": null,
   "outputs": [],
   "source": [
    "def run_baseline_model():\n",
    "    fold_results = []\n",
    "\n",
    "    for fold in cv_folds.keys():\n",
    "        train = data[data[\"datetime\"].isin(cv_folds[fold][\"train\"][-7:])]\n",
    "        test = data[data[\"datetime\"].isin(cv_folds[fold][\"test\"])]\n",
    "        pred = train.groupby(\"item_id\")[\"price\"].mean().reset_index()\n",
    "\n",
    "        preds = pd.concat([\n",
    "            pred.assign(fold=x) for x in cv_folds.keys()\n",
    "        ], axis=0).rename({\"price\": \"predicted\"}, axis=1)\n",
    "\n",
    "    # Add all test datetimes\n",
    "    cv_results = pd.merge(\n",
    "        preds,\n",
    "        test[[\"item_id\", \"datetime\"]],\n",
    "        on=[\"item_id\"]\n",
    "    )\n",
    "    # Add actual price to each datetime and item_id\n",
    "    cv_results = pd.merge(\n",
    "        cv_results,\n",
    "        test[[\"item_id\", \"price\", \"datetime\"]].rename({\"price\": \"actual\"}, axis=1),\n",
    "        on=[\"item_id\", \"datetime\"]\n",
    "    )\n",
    "    # Add step\n",
    "    cv_results = cv_results.merge(\n",
    "        (\n",
    "            cv_results[[\"datetime\"]]\n",
    "            .drop_duplicates()\n",
    "            .reset_index(drop=True)\n",
    "            .reset_index()\n",
    "        ).rename({\"index\": \"step\"}, axis=1),\n",
    "        on=\"datetime\"\n",
    "    )\n",
    "    # cv_results[\"mape\"] = mean_absolute_percentage_error(cv_results[\"actual\"], cv_results[\"predicted\"])\n",
    "    cv_eval = cv_results.groupby([\"step\"]).apply(lambda x: mean_absolute_percentage_error(x[\"actual\"], x[\"predicted\"]))\n",
    "    return cv_results.reset_index(drop=True), cv_eval.reset_index(name=\"MAPE\")\n",
    "\n",
    "baseline_results = run_baseline_model()"
   ],
   "metadata": {
    "collapsed": false,
    "pycharm": {
     "name": "#%%\n"
    }
   }
  },
  {
   "cell_type": "code",
   "execution_count": null,
   "outputs": [],
   "source": [
    "sns.set(rc = {'figure.figsize':(10, 6)})\n",
    "sns.lineplot(data=baseline_results[1], x=\"step\", y=\"MAPE\")"
   ],
   "metadata": {
    "collapsed": false,
    "pycharm": {
     "name": "#%%\n"
    }
   }
  },
  {
   "cell_type": "markdown",
   "source": [
    "### FBProphet\n",
    "\n",
    "Univariate time-series prediction"
   ],
   "metadata": {
    "collapsed": false,
    "pycharm": {
     "name": "#%% md\n"
    }
   }
  },
  {
   "cell_type": "markdown",
   "source": [
    "### DeepAR\n",
    "\n",
    "Multivariate deep learning algorithm"
   ],
   "metadata": {
    "collapsed": false,
    "pycharm": {
     "name": "#%% md\n"
    }
   }
  },
  {
   "cell_type": "markdown",
   "source": [
    "### XGBoost\n",
    "\n",
    "Direct multistep multivariate prediction using XGBoost"
   ],
   "metadata": {
    "collapsed": false,
    "pycharm": {
     "name": "#%% md\n"
    }
   }
  }
 ],
 "metadata": {
  "kernelspec": {
   "display_name": "Python 3",
   "language": "python",
   "name": "python3"
  },
  "language_info": {
   "codemirror_mode": {
    "name": "ipython",
    "version": 2
   },
   "file_extension": ".py",
   "mimetype": "text/x-python",
   "name": "python",
   "nbconvert_exporter": "python",
   "pygments_lexer": "ipython2",
   "version": "2.7.6"
  }
 },
 "nbformat": 4,
 "nbformat_minor": 0
}