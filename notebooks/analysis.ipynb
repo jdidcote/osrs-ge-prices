{
 "cells": [
  {
   "cell_type": "code",
   "execution_count": null,
   "metadata": {
    "collapsed": false,
    "pycharm": {
     "name": "#%%\n"
    }
   },
   "outputs": [],
   "source": [
    "from setup_notebook import set_path_to_root\n",
    "\n",
    "import matplotlib.pyplot as plt\n",
    "import pandas as pd\n",
    "import seaborn as sns\n",
    "\n",
    "from data.database import GrandExchangeDB"
   ]
  },
  {
   "cell_type": "code",
   "execution_count": null,
   "metadata": {
    "collapsed": false,
    "pycharm": {
     "name": "#%%\n"
    }
   },
   "outputs": [],
   "source": [
    "ge = GrandExchangeDB()"
   ]
  },
  {
   "cell_type": "markdown",
   "metadata": {
    "collapsed": false,
    "pycharm": {
     "name": "#%% md\n"
    }
   },
   "source": [
    "Select items which have on average more than 1m sold each hour"
   ]
  },
  {
   "cell_type": "code",
   "execution_count": null,
   "metadata": {
    "collapsed": false,
    "pycharm": {
     "name": "#%%\n"
    }
   },
   "outputs": [],
   "source": [
    "ge.query_db(\"\"\"\n",
    "SELECT *\n",
    "FROM PRICES\n",
    "LIMIT 1000\n",
    "\"\"\")"
   ]
  },
  {
   "cell_type": "code",
   "execution_count": null,
   "metadata": {
    "collapsed": false,
    "pycharm": {
     "name": "#%%\n"
    }
   },
   "outputs": [],
   "source": [
    "def load_price_data():\n",
    "    prices = ge.query_db(\n",
    "        \"\"\"\n",
    "        WITH ITEMS_TRADED AS (\n",
    "        SELECT item_id\n",
    "                ,AVG(avgHighPrice * highPriceVolume) as amnt_traded_high\n",
    "        FROM PRICES\n",
    "        WHERE avgHighPrice IS NOT NULL\n",
    "        AND highPriceVolume IS NOT NULL\n",
    "        GROUP BY item_id\n",
    "        )\n",
    "        SELECT PRICES.*\n",
    "            ,ITEMS.name\n",
    "        FROM PRICES \n",
    "        INNER JOIN (\n",
    "            SELECT DISTINCT item_id\n",
    "            FROM ITEMS_TRADED\n",
    "            WHERE amnt_traded_high > 1e6\n",
    "        ) as SELECTED_ITEMS\n",
    "        ON PRICES.item_id = SELECTED_ITEMS.item_id\n",
    "        LEFT JOIN ITEMS\n",
    "        ON ITEMS.id = PRICES.item_id\n",
    "        \"\"\"\n",
    "    ).drop('index', axis=1)\n",
    "\n",
    "    # Keep only items which have records for 95% of the selected time period\n",
    "    n_periods = prices['datetime'].nunique()\n",
    "    df = prices[['item_id']].value_counts().reset_index(name='count')\n",
    "    df = df.query(f'count >= {round(n_periods * 0.95)}')\n",
    "    \n",
    "    prices = prices[prices['item_id'].isin(df['item_id'])].copy()\n",
    "    prices['item_id'] = prices['item_id'].astype(int)\n",
    "    prices['datetime'] = pd.to_datetime(prices['datetime'])\n",
    "\n",
    "    # Add single values for price and volume\n",
    "    prices['price'] = (prices['avgLowPrice'] + prices['avgHighPrice']) / 2\n",
    "    prices['margin'] = prices['avgHighPrice'] - prices['avgLowPrice']\n",
    "    prices['volume'] = prices['highPriceVolume'] + prices['lowPriceVolume']\n",
    "    prices.drop(['avgHighPrice', 'avgLowPrice', 'highPriceVolume', 'lowPriceVolume'], axis=1, inplace=True)\n",
    "\n",
    "    return prices\n",
    "\n",
    "prices = load_price_data()"
   ]
  },
  {
   "cell_type": "code",
   "execution_count": null,
   "metadata": {
    "collapsed": false,
    "pycharm": {
     "name": "#%%\n"
    }
   },
   "outputs": [],
   "source": [
    "prices.head()"
   ]
  },
  {
   "cell_type": "code",
   "execution_count": null,
   "metadata": {
    "collapsed": false,
    "pycharm": {
     "name": "#%%\n"
    }
   },
   "outputs": [],
   "source": [
    "item_key = prices[['item_id', 'name', 'price', 'volume']].copy()\n",
    "item_key['amount'] = item_key['volume'] * item_key['price']\n",
    "item_key = item_key.groupby(['item_id', 'name'])['amount'].sum().reset_index()"
   ]
  },
  {
   "cell_type": "code",
   "execution_count": null,
   "metadata": {
    "collapsed": false,
    "pycharm": {
     "name": "#%%\n"
    }
   },
   "outputs": [],
   "source": [
    "def plot_single_item_prices(item_id):\n",
    "    df = prices[prices['item_id'] == item_id].copy()\n",
    "    item_name = df['name'].unique()[0] + ' prices'\n",
    "    sns.set(rc={'figure.figsize':(15, 7)})\n",
    "    ax = sns.lineplot(data=df, x='datetime', y='price', color='blue', alpha=0.5)\n",
    "    ax.set_title(item_name)\n",
    "    plt.fill_between(df.datetime, df['price'] - df['margin'], df['price'] + df['margin'], color='grey', alpha=0.5)\n",
    "    plt.show()"
   ]
  },
  {
   "cell_type": "code",
   "execution_count": null,
   "metadata": {
    "collapsed": false,
    "pycharm": {
     "name": "#%%\n"
    }
   },
   "outputs": [],
   "source": [
    "plot_single_item_prices(21003)"
   ]
  },
  {
   "cell_type": "markdown",
   "metadata": {
    "collapsed": false,
    "pycharm": {
     "name": "#%% md\n"
    }
   },
   "source": [
    "### Detect and remove outliersplot_single_item_prices(2363)"
   ]
  },
  {
   "cell_type": "code",
   "execution_count": null,
   "metadata": {
    "collapsed": false,
    "pycharm": {
     "name": "#%%\n"
    }
   },
   "outputs": [],
   "source": [
    "plot_single_item_prices(2363)"
   ]
  },
  {
   "cell_type": "code",
   "execution_count": null,
   "metadata": {
    "collapsed": false,
    "pycharm": {
     "name": "#%%\n"
    }
   },
   "outputs": [],
   "source": [
    "df = prices[prices['item_id'] == 2363].copy()\n",
    "df['price_change'] = df.sort_values('datetime')['price'].diff()\n",
    "df.loc[df['price_change'].isna(), 'price_change'] = 0"
   ]
  },
  {
   "cell_type": "code",
   "execution_count": null,
   "metadata": {
    "collapsed": false,
    "pycharm": {
     "name": "#%%\n"
    }
   },
   "outputs": [],
   "source": [
    "sns.histplot(df['price_change'])"
   ]
  },
  {
   "cell_type": "markdown",
   "metadata": {
    "collapsed": false,
    "pycharm": {
     "name": "#%% md\n"
    }
   },
   "source": [
    "Difference is normally distributed - use z scores to remove outliers"
   ]
  },
  {
   "cell_type": "code",
   "execution_count": null,
   "metadata": {
    "collapsed": false,
    "pycharm": {
     "name": "#%%\n"
    }
   },
   "outputs": [],
   "source": []
  },
  {
   "cell_type": "markdown",
   "metadata": {
    "collapsed": false,
    "pycharm": {
     "name": "#%% md\n"
    }
   },
   "source": [
    "**Add a single measure for price and volume traded**\n",
    "- **Price**: take the average of high and low price\n",
    "- **Volume**: Take the sum of high/low traded volume\n",
    "- **Margin**: the difference between high and low prices at that timestep"
   ]
  },
  {
   "cell_type": "code",
   "execution_count": null,
   "metadata": {
    "collapsed": false,
    "pycharm": {
     "name": "#%%\n"
    }
   },
   "outputs": [],
   "source": []
  },
  {
   "cell_type": "code",
   "execution_count": null,
   "metadata": {
    "collapsed": false,
    "pycharm": {
     "name": "#%%\n"
    }
   },
   "outputs": [],
   "source": []
  },
  {
   "cell_type": "markdown",
   "metadata": {
    "collapsed": false,
    "pycharm": {
     "name": "#%% md\n"
    }
   },
   "source": [
    "Can we detect any time-series outliers?"
   ]
  },
  {
   "cell_type": "code",
   "execution_count": null,
   "metadata": {
    "collapsed": false,
    "pycharm": {
     "name": "#%%\n"
    }
   },
   "outputs": [],
   "source": []
  },
  {
   "cell_type": "markdown",
   "metadata": {
    "collapsed": false,
    "pycharm": {
     "name": "#%% md\n"
    }
   },
   "source": [
    "### Analysis\n",
    "\n",
    "1. How many items?\n",
    "1. Distribution of average prices (all items)\n",
    "1. Distribution of variability (stddev)\n",
    "1. Plots of margin against price over time\n",
    "1. Ratio of price to amount traded (scatter)\n"
   ]
  },
  {
   "cell_type": "markdown",
   "metadata": {
    "collapsed": false,
    "pycharm": {
     "name": "#%% md\n"
    }
   },
   "source": [
    "### DTW find similar clusters of items"
   ]
  },
  {
   "cell_type": "markdown",
   "metadata": {
    "collapsed": false,
    "pycharm": {
     "name": "#%% md\n"
    }
   },
   "source": [
    "### Add useful stock feature"
   ]
  },
  {
   "cell_type": "markdown",
   "metadata": {
    "collapsed": false,
    "pycharm": {
     "name": "#%% md\n"
    }
   },
   "source": [
    "### Test multivariate forecasting?"
   ]
  }
 ],
 "metadata": {
  "interpreter": {
   "hash": "1c55cdd6f95e310e44450795cdce2c344ef03d481cd83bd6cae8c1972147d6ec"
  },
  "kernelspec": {
   "display_name": "Python 3.8.9 ('venv': venv)",
   "language": "python",
   "name": "python3"
  },
  "language_info": {
   "codemirror_mode": {
    "name": "ipython",
    "version": 3
   },
   "file_extension": ".py",
   "mimetype": "text/x-python",
   "name": "python",
   "nbconvert_exporter": "python",
   "pygments_lexer": "ipython3",
   "version": "3.8.9"
  }
 },
 "nbformat": 4,
 "nbformat_minor": 5
}
