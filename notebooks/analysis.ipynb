{
 "cells": [
  {
   "cell_type": "code",
   "execution_count": null,
   "id": "81eb8da8",
   "metadata": {
    "pycharm": {
     "name": "#%%\n"
    }
   },
   "outputs": [],
   "source": [
    "import setup_notebook\n",
    "\n",
    "import matplotlib.pyplot as plt\n",
    "import numpy as np\n",
    "import pandas as pd\n",
    "from scipy.stats import zscore\n",
    "import seaborn as sns\n",
    "\n",
    "from grandexchange.preprocess import (\n",
    "    fill_missing_data,\n",
    "    load_price_data,\n",
    "    load_preprocessed_data,\n",
    "    remove_price_outliers\n",
    ")"
   ]
  },
  {
   "cell_type": "code",
   "execution_count": null,
   "id": "85b000ea",
   "metadata": {
    "pycharm": {
     "name": "#%%\n"
    }
   },
   "outputs": [],
   "source": [
    "prices = load_price_data()"
   ]
  },
  {
   "cell_type": "markdown",
   "id": "a01ccaa8",
   "metadata": {
    "pycharm": {
     "name": "#%% md\n"
    }
   },
   "source": [
    "Select items which have on average more than 1m sold each hour"
   ]
  },
  {
   "cell_type": "code",
   "execution_count": null,
   "id": "07461801",
   "metadata": {
    "pycharm": {
     "name": "#%%\n"
    }
   },
   "outputs": [],
   "source": [
    "prices.head()"
   ]
  },
  {
   "cell_type": "code",
   "execution_count": null,
   "id": "afc111f1",
   "metadata": {
    "pycharm": {
     "name": "#%%\n"
    }
   },
   "outputs": [],
   "source": [
    "def plot_single_item_prices(item_id, **kwargs):\n",
    "    df = prices[prices['item_id'] == item_id].copy()\n",
    "    item_name = df['name'].unique()[0] + ' prices'\n",
    "    sns.set(rc={'figure.figsize':(15, 7)})\n",
    "    ax = sns.lineplot(data=df, x='datetime', y='price', color='blue', alpha=0.5)\n",
    "    ax.set_title(item_name)\n",
    "    plt.fill_between(df.datetime, df['price'] - df['margin'], df['price'] + df['margin'], color='grey', alpha=0.5)"
   ]
  },
  {
   "cell_type": "code",
   "execution_count": null,
   "id": "c97e3067",
   "metadata": {
    "pycharm": {
     "name": "#%%\n"
    }
   },
   "outputs": [],
   "source": [
    "plot_single_item_prices(21003)"
   ]
  },
  {
   "cell_type": "markdown",
   "id": "98a7d941",
   "metadata": {
    "pycharm": {
     "name": "#%% md\n"
    }
   },
   "source": [
    "### Detect and remove outliers\n",
    "\n",
    "A number of items seem to have a few outliers in the prices data."
   ]
  },
  {
   "cell_type": "code",
   "execution_count": null,
   "id": "2d5e4594",
   "metadata": {
    "pycharm": {
     "name": "#%%\n"
    }
   },
   "outputs": [],
   "source": [
    "plot_single_item_prices(2363)"
   ]
  },
  {
   "cell_type": "code",
   "execution_count": null,
   "id": "6933ff85",
   "metadata": {
    "pycharm": {
     "name": "#%%\n"
    }
   },
   "outputs": [],
   "source": [
    "df = prices[prices['item_id'] == 2363].copy()\n",
    "df['price_change'] = df.sort_values('datetime')['price'].diff()\n",
    "df.loc[df['price_change'].isna(), 'price_change'] = 0"
   ]
  },
  {
   "cell_type": "code",
   "execution_count": null,
   "id": "fb3189c6",
   "metadata": {
    "pycharm": {
     "name": "#%%\n"
    }
   },
   "outputs": [],
   "source": [
    "sns.histplot(df['price_change'], bins=500)"
   ]
  },
  {
   "cell_type": "markdown",
   "id": "21aa60ca",
   "metadata": {
    "pycharm": {
     "name": "#%% md\n"
    }
   },
   "source": [
    "Difference is normally distributed - use z scores to remove outliers"
   ]
  },
  {
   "cell_type": "code",
   "execution_count": null,
   "id": "9e323033",
   "metadata": {
    "pycharm": {
     "name": "#%%\n"
    }
   },
   "outputs": [],
   "source": [
    "df['zscore'] = zscore(df['price_change'])\n",
    "anomalies = df[df['zscore'] > 5][['item_id', 'datetime']]\n",
    "anomalies['anomalous'] = 1\n",
    "\n",
    "df = pd.merge(df, anomalies, on=['item_id', 'datetime'], how='left')\n",
    "df.loc[df['anomalous'].isna(), 'anomalous'] = 0\n",
    "\n",
    "plt.plot(df['datetime'], df['price'])\n",
    "plt.scatter(df.loc[df['anomalous'] == 1, 'datetime'], df.loc[df['anomalous'] == 1, 'price'], color='red', label='removed points')\n",
    "plt.legend()\n",
    "plt.show()"
   ]
  },
  {
   "cell_type": "markdown",
   "id": "270ea42a",
   "metadata": {
    "pycharm": {
     "name": "#%% md\n"
    }
   },
   "source": []
  },
  {
   "cell_type": "code",
   "execution_count": null,
   "id": "d1b5e519",
   "metadata": {
    "pycharm": {
     "name": "#%%\n"
    }
   },
   "outputs": [],
   "source": [
    "prices = remove_price_outliers(prices)"
   ]
  },
  {
   "cell_type": "markdown",
   "id": "6b454808",
   "metadata": {
    "pycharm": {
     "name": "#%% md\n"
    }
   },
   "source": [
    "### Impute missing periods"
   ]
  },
  {
   "cell_type": "code",
   "execution_count": null,
   "id": "bb43542b",
   "metadata": {
    "pycharm": {
     "name": "#%%\n"
    }
   },
   "outputs": [],
   "source": [
    "prices = fill_missing_data(prices)"
   ]
  },
  {
   "cell_type": "markdown",
   "id": "4f4fbc3b",
   "metadata": {
    "pycharm": {
     "name": "#%% md\n"
    }
   },
   "source": [
    "### DTW find similar clusters of items"
   ]
  },
  {
   "cell_type": "code",
   "execution_count": null,
   "id": "ac1f8bd8",
   "metadata": {
    "pycharm": {
     "name": "#%%\n"
    }
   },
   "outputs": [],
   "source": [
    "prices = load_preprocessed_data(n_hours=6)"
   ]
  },
  {
   "cell_type": "code",
   "execution_count": null,
   "id": "61296797",
   "metadata": {
    "pycharm": {
     "name": "#%%\n"
    }
   },
   "outputs": [],
   "source": [
    "# prices['price_scaled'] = prices.groupby('item_id')['price'].transform(lambda x: (x - x.min()) / (x.max() - x.min()))\n",
    "prices['price_scaled'] = prices.groupby('item_id')['price'].transform(lambda x: (x - x.mean()) / x.std())"
   ]
  },
  {
   "cell_type": "code",
   "execution_count": null,
   "id": "8da9280c",
   "metadata": {
    "pycharm": {
     "name": "#%%\n"
    }
   },
   "outputs": [],
   "source": [
    "prices_sample = prices[prices['item_id'].isin(prices['item_id'].sample(10))]\n",
    "sns.set(rc={'figure.figsize':(20, 10)})\n",
    "sns.lineplot(data=prices_sample, x='datetime', y='price_scaled', hue='name')"
   ]
  },
  {
   "cell_type": "code",
   "execution_count": null,
   "id": "f6857822",
   "metadata": {
    "pycharm": {
     "name": "#%%\n"
    }
   },
   "outputs": [],
   "source": [
    "from tslearn.clustering import TimeSeriesKMeans\n",
    "\n",
    "# Reshape timeseries for dtw clustering\n",
    "prices_wide = prices.pivot(index='datetime', columns='name', values='price_scaled')"
   ]
  },
  {
   "cell_type": "code",
   "execution_count": null,
   "id": "a908da25",
   "metadata": {
    "pycharm": {
     "name": "#%%\n"
    }
   },
   "outputs": [],
   "source": [
    "%%time\n",
    "\n",
    "dba_km = TimeSeriesKMeans(n_clusters=5,\n",
    "                          metric=\"dtw\",\n",
    "                          random_state=42,\n",
    "                          max_iter=5,\n",
    "                          max_iter_barycenter=5,\n",
    "                          n_jobs=-1)\n",
    "y_pred = dba_km.fit_predict(np.array(prices_wide).T)\n",
    "# labels = dict(zip(df_covid_pivot.index, y_pred))"
   ]
  },
  {
   "cell_type": "code",
   "execution_count": null,
   "id": "1534678a",
   "metadata": {
    "pycharm": {
     "name": "#%%\n"
    }
   },
   "outputs": [],
   "source": [
    "cluster_key = pd.DataFrame({\n",
    "    'name': prices_wide.columns,\n",
    "    'cluster': y_pred\n",
    "})"
   ]
  },
  {
   "cell_type": "code",
   "execution_count": null,
   "id": "55b79242",
   "metadata": {
    "pycharm": {
     "name": "#%%\n"
    }
   },
   "outputs": [],
   "source": [
    "cluster_key['cluster'].value_counts()"
   ]
  },
  {
   "cell_type": "code",
   "execution_count": null,
   "id": "ad42d0ee",
   "metadata": {
    "pycharm": {
     "name": "#%%\n"
    }
   },
   "outputs": [],
   "source": [
    "# Show some from each cluster\n",
    "cluster_sample = cluster_key.groupby('cluster').sample(7)\n",
    "cluster_sample = pd.merge(prices, cluster_sample, on='name', how='inner')"
   ]
  },
  {
   "cell_type": "code",
   "execution_count": null,
   "id": "7ff8d17b",
   "metadata": {
    "pycharm": {
     "name": "#%%\n"
    }
   },
   "outputs": [],
   "source": [
    "clusters = cluster_sample['cluster'].sort_values().unique()\n",
    "\n",
    "fig, ax = plt.subplots(len(clusters), 1, figsize=(30, 60))\n",
    "\n",
    "for i, cluster in enumerate(clusters):\n",
    "    sns.lineplot(\n",
    "        data=cluster_sample.query(f'cluster == {cluster}'),\n",
    "        x='datetime',\n",
    "        y='price_scaled',\n",
    "        hue='name',\n",
    "        alpha=0.5,\n",
    "        ax=ax[i]\n",
    "    )\n",
    "    ax[i].title.set_text(f'Normalised prices: cluster {cluster}')\n",
    "\n",
    "plt.show()"
   ]
  }
 ],
 "metadata": {
  "interpreter": {
   "hash": "1c55cdd6f95e310e44450795cdce2c344ef03d481cd83bd6cae8c1972147d6ec"
  },
  "kernelspec": {
   "display_name": "Python 3 (ipykernel)",
   "language": "python",
   "name": "python3"
  },
  "language_info": {
   "codemirror_mode": {
    "name": "ipython",
    "version": 3
   },
   "file_extension": ".py",
   "mimetype": "text/x-python",
   "name": "python",
   "nbconvert_exporter": "python",
   "pygments_lexer": "ipython3",
   "version": "3.10.5"
  }
 },
 "nbformat": 4,
 "nbformat_minor": 5
}